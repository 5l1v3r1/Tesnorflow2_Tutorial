{
  "nbformat": 4,
  "nbformat_minor": 0,
  "metadata": {
    "colab": {
      "name": "tf1.ipynb",
      "provenance": []
    },
    "kernelspec": {
      "name": "python3",
      "display_name": "Python 3"
    },
    "accelerator": "GPU"
  },
  "cells": [
    {
      "cell_type": "code",
      "metadata": {
        "id": "UhzZjV9x6tBO",
        "colab_type": "code",
        "colab": {
          "base_uri": "https://localhost:8080/",
          "height": 54
        },
        "outputId": "a94a1c3a-57b1-4279-c3f2-4e02e84d9322"
      },
      "source": [
        "'''\n",
        "pip install tensorflow\n",
        "pip install tensorflow-gpu  £if you have cuda enabled\n",
        "%tensorflow_version 2.x     £magic method to downgrade version\n",
        "'''\n"
      ],
      "execution_count": 1,
      "outputs": [
        {
          "output_type": "execute_result",
          "data": {
            "text/plain": [
              "'\\npip install tensorflow\\npip install tensorflow-gpu  £if you have cuda enabled\\n%tensorflow_version 2.x     £magic method to downgrade version\\n'"
            ]
          },
          "metadata": {
            "tags": []
          },
          "execution_count": 1
        }
      ]
    },
    {
      "cell_type": "code",
      "metadata": {
        "id": "13E1cf7r5K_O",
        "colab_type": "code",
        "colab": {
          "base_uri": "https://localhost:8080/",
          "height": 34
        },
        "outputId": "96d1eeac-0f37-4af9-a65e-953cb04d8add"
      },
      "source": [
        "import tensorflow as tf\n",
        "tf.__version__"
      ],
      "execution_count": 2,
      "outputs": [
        {
          "output_type": "execute_result",
          "data": {
            "text/plain": [
              "'2.2.0-rc1'"
            ]
          },
          "metadata": {
            "tags": []
          },
          "execution_count": 2
        }
      ]
    },
    {
      "cell_type": "code",
      "metadata": {
        "id": "aF-2_yju9h8Z",
        "colab_type": "code",
        "colab": {
          "base_uri": "https://localhost:8080/",
          "height": 86
        },
        "outputId": "49a11410-77e8-41d3-d23b-f8a5d26eab21"
      },
      "source": [
        "string = tf.Variable('Tensorflow', tf.string)\n",
        "integer = tf.Variable(666, tf.int32)\n",
        "floating = tf.Variable(1111.11, tf.float32)\n",
        "print(string)\n",
        "print(integer)\n",
        "print(floating)\n",
        "'''\n",
        "Variable:0 (scalar) shows the rank or degree. (e.g. dimension)\n",
        "'''"
      ],
      "execution_count": 3,
      "outputs": [
        {
          "output_type": "stream",
          "text": [
            "<tf.Variable 'Variable:0' shape=() dtype=string, numpy=b'Tensorflow'>\n",
            "<tf.Variable 'Variable:0' shape=() dtype=int32, numpy=666>\n",
            "<tf.Variable 'Variable:0' shape=() dtype=float32, numpy=1111.11>\n"
          ],
          "name": "stdout"
        },
        {
          "output_type": "execute_result",
          "data": {
            "text/plain": [
              "'\\nVariable:0 (scalar) shows the rank or degree. (e.g. dimension)\\n'"
            ]
          },
          "metadata": {
            "tags": []
          },
          "execution_count": 3
        }
      ]
    },
    {
      "cell_type": "code",
      "metadata": {
        "id": "sYY7Ab_t-Tno",
        "colab_type": "code",
        "colab": {
          "base_uri": "https://localhost:8080/",
          "height": 86
        },
        "outputId": "a4e6ffd0-0496-4e47-ee93-fcdcf4601fc3"
      },
      "source": [
        "rank1_tensor = tf.Variable(['Tensorflow', 'ACDC', 'Batch'], tf.string)\n",
        "print(tf.rank(rank1_tensor))\n",
        "rank2_tensor = tf.Variable([['TF', 'LB'], ['Kat', 'Kass']], tf.string)\n",
        "print(tf.rank(rank2_tensor))\n",
        "print(rank1_tensor.shape)\n",
        "print(rank2_tensor.shape)"
      ],
      "execution_count": 4,
      "outputs": [
        {
          "output_type": "stream",
          "text": [
            "tf.Tensor(1, shape=(), dtype=int32)\n",
            "tf.Tensor(2, shape=(), dtype=int32)\n",
            "(3,)\n",
            "(2, 2)\n"
          ],
          "name": "stdout"
        }
      ]
    },
    {
      "cell_type": "code",
      "metadata": {
        "id": "_rU6DLIN_B_1",
        "colab_type": "code",
        "colab": {
          "base_uri": "https://localhost:8080/",
          "height": 34
        },
        "outputId": "a2cd554c-75a6-4274-af13-a94cfcf7fbf1"
      },
      "source": [
        "D = tf.ones(90)\n",
        "H = tf.zeros(84)\n",
        "group = tf.concat((D, H), axis=0)\n",
        "print(group.shape)"
      ],
      "execution_count": 5,
      "outputs": [
        {
          "output_type": "stream",
          "text": [
            "(174,)\n"
          ],
          "name": "stdout"
        }
      ]
    },
    {
      "cell_type": "code",
      "metadata": {
        "id": "vNZsASHDAprb",
        "colab_type": "code",
        "colab": {
          "base_uri": "https://localhost:8080/",
          "height": 156
        },
        "outputId": "5f3dcca4-cc10-4851-fb2a-080c65d0463b"
      },
      "source": [
        "tensor1 = tf.ones([1, 2, 3])\n",
        "print(tensor1)\n",
        "print(tensor1.shape)\n",
        "tensor2 = tf.reshape(tensor1, [2, 3, 1])\n",
        "print(tensor2.shape)\n",
        "tensor3 = tf.reshape(tensor2, [3, -1])\n",
        "print(tensor3.shape)\n",
        "tensor4 = tf.reshape(tensor3, [2, -1, 1])\n",
        "print(tensor4.shape)\n",
        "'''\n",
        "-1 tells tf to figure the shape out\n",
        "'''"
      ],
      "execution_count": 6,
      "outputs": [
        {
          "output_type": "stream",
          "text": [
            "tf.Tensor(\n",
            "[[[1. 1. 1.]\n",
            "  [1. 1. 1.]]], shape=(1, 2, 3), dtype=float32)\n",
            "(1, 2, 3)\n",
            "(2, 3, 1)\n",
            "(3, 2)\n",
            "(2, 3, 1)\n"
          ],
          "name": "stdout"
        },
        {
          "output_type": "execute_result",
          "data": {
            "text/plain": [
              "'\\n-1 tells tf to figure the shape out\\n'"
            ]
          },
          "metadata": {
            "tags": []
          },
          "execution_count": 6
        }
      ]
    },
    {
      "cell_type": "code",
      "metadata": {
        "id": "p8aQhp66DxMw",
        "colab_type": "code",
        "colab": {
          "base_uri": "https://localhost:8080/",
          "height": 52
        },
        "outputId": "f50c326e-4b37-4fa5-e662-a87d23907612"
      },
      "source": [
        "import numpy as np\n",
        "arr1 = np.ones([25, 1])\n",
        "arr1 = arr1.reshape(5, 5)\n",
        "print(arr1.shape)\n",
        "tf1 = tf.ones([25, 1])\n",
        "tf1 = tf.reshape(tf1, [5, -1])\n",
        "print(tf1.shape)"
      ],
      "execution_count": 7,
      "outputs": [
        {
          "output_type": "stream",
          "text": [
            "(5, 5)\n",
            "(5, 5)\n"
          ],
          "name": "stdout"
        }
      ]
    },
    {
      "cell_type": "code",
      "metadata": {
        "id": "jUa8mRdWERus",
        "colab_type": "code",
        "colab": {
          "base_uri": "https://localhost:8080/",
          "height": 34
        },
        "outputId": "cf6e184a-0637-45fc-cd97-e4a209ea5fd7"
      },
      "source": [
        "'''\n",
        "tf types\n",
        "Variable\n",
        "Constant\n",
        "Placeholder\n",
        "SparseTensor\n",
        "'''\n"
      ],
      "execution_count": 8,
      "outputs": [
        {
          "output_type": "execute_result",
          "data": {
            "text/plain": [
              "'\\ntf types\\nVariable\\nConstant\\nPlaceholder\\nSparseTensor\\n'"
            ]
          },
          "metadata": {
            "tags": []
          },
          "execution_count": 8
        }
      ]
    }
  ]
}