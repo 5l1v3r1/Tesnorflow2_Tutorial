{
  "nbformat": 4,
  "nbformat_minor": 0,
  "metadata": {
    "colab": {
      "name": "tf4.ipynb",
      "provenance": [],
      "collapsed_sections": []
    },
    "kernelspec": {
      "name": "python3",
      "display_name": "Python 3"
    }
  },
  "cells": [
    {
      "cell_type": "code",
      "metadata": {
        "id": "E6tTlCqGZeOb",
        "colab_type": "code",
        "colab": {}
      },
      "source": [
        "# HMM"
      ],
      "execution_count": 0,
      "outputs": []
    },
    {
      "cell_type": "code",
      "metadata": {
        "id": "rtHXkokmo-oE",
        "colab_type": "code",
        "colab": {}
      },
      "source": [
        "import tensorflow_probability as tfp\n",
        "import tensorflow as tf"
      ],
      "execution_count": 0,
      "outputs": []
    },
    {
      "cell_type": "code",
      "metadata": {
        "id": "8cJ0Ck_HpjSW",
        "colab_type": "code",
        "colab": {}
      },
      "source": [
        "tfd = tfp.distributions\n",
        "# chances are that the first day can be 80% hot and 20% cold.\n",
        "initial_distribution = tfd.Categorical(probs=[0.8, 0.2])\n",
        "# cold day is 0 and hot is 1, so cold is encoded first.\n",
        "# first element is the change that the state changes to a cold day. which for cold day is 70% and for hot day its 20%.\n",
        "transition_distribution = tfd.Categorical(probs=[[0.7, 0.3],\n",
        "                                                [0.2, 0.8]])\n",
        "# loc is the average on cold and hot days respectively. Where scale is the std. (MUST BE FLOATS)\n",
        "observation_distribution = tfd.Normal(loc=[0., 15.], scale=[5., 10.])\n"
      ],
      "execution_count": 0,
      "outputs": []
    },
    {
      "cell_type": "code",
      "metadata": {
        "id": "6xhyfYAmpm2b",
        "colab_type": "code",
        "colab": {}
      },
      "source": [
        "model = tfd.HiddenMarkovModel(\n",
        "    initial_distribution=initial_distribution,\n",
        "    transition_distribution=transition_distribution,\n",
        "    observation_distribution=observation_distribution,\n",
        "    num_steps=7\n",
        ")\n",
        "# steps is the number of days we want to predict the temperature for."
      ],
      "execution_count": 0,
      "outputs": []
    },
    {
      "cell_type": "code",
      "metadata": {
        "id": "tMy94qDDru3u",
        "colab_type": "code",
        "outputId": "4a594e83-0111-4a01-9cd7-3d89ddc52aca",
        "colab": {
          "base_uri": "https://localhost:8080/",
          "height": 34
        }
      },
      "source": [
        "mean = model.mean()\n",
        "# partially computed.\n",
        "# create a session to compute.\n",
        "with tf.compat.v1.Session() as sess:\n",
        "  print(mean.numpy())"
      ],
      "execution_count": 0,
      "outputs": [
        {
          "output_type": "stream",
          "text": [
            "[2.9999998 5.9999995 7.4999995 8.25      8.625001  8.812501  8.90625  ]\n"
          ],
          "name": "stdout"
        }
      ]
    },
    {
      "cell_type": "code",
      "metadata": {
        "id": "fs1pz4q7sk4Z",
        "colab_type": "code",
        "colab": {}
      },
      "source": [
        ""
      ],
      "execution_count": 0,
      "outputs": []
    }
  ]
}