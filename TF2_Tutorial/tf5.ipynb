{
  "nbformat": 4,
  "nbformat_minor": 0,
  "metadata": {
    "colab": {
      "name": "tf5.ipynb",
      "provenance": [],
      "collapsed_sections": []
    },
    "kernelspec": {
      "name": "python3",
      "display_name": "Python 3"
    }
  },
  "cells": [
    {
      "cell_type": "code",
      "metadata": {
        "id": "osZDjyeHHwbQ",
        "colab_type": "code",
        "colab": {}
      },
      "source": [
        "from __future__ import absolute_import, division, print_function, unicode_literals\n",
        "import tensorflow as tf\n",
        "import pandas as pd\n",
        "import numpy as np\n",
        "\n"
      ],
      "execution_count": 0,
      "outputs": []
    },
    {
      "cell_type": "code",
      "metadata": {
        "id": "XZxhuNw2JOhn",
        "colab_type": "code",
        "colab": {}
      },
      "source": [
        "CSV_COLUMN_NAMES = ['SepalLength', 'SepalWidth', 'PetalLength', 'PetalWidth', 'Species']\n",
        "SPECIES = ['Setosa', 'Versicolor', 'Virginica']\n"
      ],
      "execution_count": 0,
      "outputs": []
    },
    {
      "cell_type": "code",
      "metadata": {
        "id": "gHzD_YU_JsZ6",
        "colab_type": "code",
        "outputId": "777cac28-01c5-4201-feee-fb2003eb8989",
        "colab": {
          "base_uri": "https://localhost:8080/",
          "height": 52
        }
      },
      "source": [
        "train_path = tf.keras.utils.get_file(\n",
        "    'iris_training.csv', 'https://storage.googleapis.com/download.tensorflow.org/data/iris_training.csv'\n",
        ")\n",
        "test_path = tf.keras.utils.get_file(\n",
        "    'iris_test.csv', 'https://storage.googleapis.com/download.tensorflow.org/data/iris_test.csv'\n",
        ")\n",
        "print(train_path)\n",
        "print(test_path)\n",
        "train = pd.read_csv(train_path, names=CSV_COLUMN_NAMES, header=0)\n",
        "test = pd.read_csv(test_path, names=CSV_COLUMN_NAMES, header=0)"
      ],
      "execution_count": 0,
      "outputs": [
        {
          "output_type": "stream",
          "text": [
            "/root/.keras/datasets/iris_training.csv\n",
            "/root/.keras/datasets/iris_test.csv\n"
          ],
          "name": "stdout"
        }
      ]
    },
    {
      "cell_type": "code",
      "metadata": {
        "id": "lu8eJOusKXAS",
        "colab_type": "code",
        "outputId": "ab390a0d-9f37-4943-9e24-7dbbed56d735",
        "colab": {
          "base_uri": "https://localhost:8080/",
          "height": 206
        }
      },
      "source": [
        "train.head()"
      ],
      "execution_count": 0,
      "outputs": [
        {
          "output_type": "execute_result",
          "data": {
            "text/html": [
              "<div>\n",
              "<style scoped>\n",
              "    .dataframe tbody tr th:only-of-type {\n",
              "        vertical-align: middle;\n",
              "    }\n",
              "\n",
              "    .dataframe tbody tr th {\n",
              "        vertical-align: top;\n",
              "    }\n",
              "\n",
              "    .dataframe thead th {\n",
              "        text-align: right;\n",
              "    }\n",
              "</style>\n",
              "<table border=\"1\" class=\"dataframe\">\n",
              "  <thead>\n",
              "    <tr style=\"text-align: right;\">\n",
              "      <th></th>\n",
              "      <th>SepalLength</th>\n",
              "      <th>SepalWidth</th>\n",
              "      <th>PetalLength</th>\n",
              "      <th>PetalWidth</th>\n",
              "      <th>Species</th>\n",
              "    </tr>\n",
              "  </thead>\n",
              "  <tbody>\n",
              "    <tr>\n",
              "      <th>0</th>\n",
              "      <td>6.4</td>\n",
              "      <td>2.8</td>\n",
              "      <td>5.6</td>\n",
              "      <td>2.2</td>\n",
              "      <td>2</td>\n",
              "    </tr>\n",
              "    <tr>\n",
              "      <th>1</th>\n",
              "      <td>5.0</td>\n",
              "      <td>2.3</td>\n",
              "      <td>3.3</td>\n",
              "      <td>1.0</td>\n",
              "      <td>1</td>\n",
              "    </tr>\n",
              "    <tr>\n",
              "      <th>2</th>\n",
              "      <td>4.9</td>\n",
              "      <td>2.5</td>\n",
              "      <td>4.5</td>\n",
              "      <td>1.7</td>\n",
              "      <td>2</td>\n",
              "    </tr>\n",
              "    <tr>\n",
              "      <th>3</th>\n",
              "      <td>4.9</td>\n",
              "      <td>3.1</td>\n",
              "      <td>1.5</td>\n",
              "      <td>0.1</td>\n",
              "      <td>0</td>\n",
              "    </tr>\n",
              "    <tr>\n",
              "      <th>4</th>\n",
              "      <td>5.7</td>\n",
              "      <td>3.8</td>\n",
              "      <td>1.7</td>\n",
              "      <td>0.3</td>\n",
              "      <td>0</td>\n",
              "    </tr>\n",
              "  </tbody>\n",
              "</table>\n",
              "</div>"
            ],
            "text/plain": [
              "   SepalLength  SepalWidth  PetalLength  PetalWidth  Species\n",
              "0          6.4         2.8          5.6         2.2        2\n",
              "1          5.0         2.3          3.3         1.0        1\n",
              "2          4.9         2.5          4.5         1.7        2\n",
              "3          4.9         3.1          1.5         0.1        0\n",
              "4          5.7         3.8          1.7         0.3        0"
            ]
          },
          "metadata": {
            "tags": []
          },
          "execution_count": 4
        }
      ]
    },
    {
      "cell_type": "code",
      "metadata": {
        "id": "JBsD9_MhKhhF",
        "colab_type": "code",
        "outputId": "5600ce51-6713-459c-ecf7-db885ba2db0a",
        "colab": {
          "base_uri": "https://localhost:8080/",
          "height": 52
        }
      },
      "source": [
        "numeric_cols = train.select_dtypes(np.number)\n",
        "numeric_cols = list(numeric_cols.columns)\n",
        "categorical_cols = train.select_dtypes('object')\n",
        "categorical_cols = list(categorical_cols.columns)\n",
        "print(numeric_cols)\n",
        "print(categorical_cols)"
      ],
      "execution_count": 0,
      "outputs": [
        {
          "output_type": "stream",
          "text": [
            "['SepalLength', 'SepalWidth', 'PetalLength', 'PetalWidth', 'Species']\n",
            "[]\n"
          ],
          "name": "stdout"
        }
      ]
    },
    {
      "cell_type": "code",
      "metadata": {
        "id": "spgLj5_cLTem",
        "colab_type": "code",
        "outputId": "1fdea45f-0ab4-437e-e7d6-715aa2a345e8",
        "colab": {
          "base_uri": "https://localhost:8080/",
          "height": 330
        }
      },
      "source": [
        "train.describe(), test.describe()"
      ],
      "execution_count": 0,
      "outputs": [
        {
          "output_type": "execute_result",
          "data": {
            "text/plain": [
              "(       SepalLength  SepalWidth  PetalLength  PetalWidth     Species\n",
              " count   120.000000  120.000000   120.000000  120.000000  120.000000\n",
              " mean      5.845000    3.065000     3.739167    1.196667    1.000000\n",
              " std       0.868578    0.427156     1.822100    0.782039    0.840168\n",
              " min       4.400000    2.000000     1.000000    0.100000    0.000000\n",
              " 25%       5.075000    2.800000     1.500000    0.300000    0.000000\n",
              " 50%       5.800000    3.000000     4.400000    1.300000    1.000000\n",
              " 75%       6.425000    3.300000     5.100000    1.800000    2.000000\n",
              " max       7.900000    4.400000     6.900000    2.500000    2.000000,\n",
              "        SepalLength  SepalWidth  PetalLength  PetalWidth    Species\n",
              " count    30.000000   30.000000    30.000000   30.000000  30.000000\n",
              " mean      5.836667    3.010000     3.836667    1.206667   1.000000\n",
              " std       0.653628    0.463383     1.537459    0.694775   0.742781\n",
              " min       4.300000    2.200000     1.100000    0.100000   0.000000\n",
              " 25%       5.500000    2.725000     2.300000    0.625000   0.250000\n",
              " 50%       5.750000    3.000000     4.250000    1.300000   1.000000\n",
              " 75%       6.300000    3.300000     4.900000    1.575000   1.750000\n",
              " max       7.100000    4.200000     5.900000    2.500000   2.000000)"
            ]
          },
          "metadata": {
            "tags": []
          },
          "execution_count": 6
        }
      ]
    },
    {
      "cell_type": "code",
      "metadata": {
        "id": "2Jn0nl0PLU88",
        "colab_type": "code",
        "colab": {}
      },
      "source": [
        "train_y = train.pop('Species')\n",
        "test_y = test.pop('Species')"
      ],
      "execution_count": 0,
      "outputs": []
    },
    {
      "cell_type": "code",
      "metadata": {
        "id": "oGy2ozR1L_oB",
        "colab_type": "code",
        "outputId": "f175ca89-bf3d-42de-ebae-45eb32b8848f",
        "colab": {
          "base_uri": "https://localhost:8080/",
          "height": 34
        }
      },
      "source": [
        "train.shape, test.shape"
      ],
      "execution_count": 0,
      "outputs": [
        {
          "output_type": "execute_result",
          "data": {
            "text/plain": [
              "((120, 4), (30, 4))"
            ]
          },
          "metadata": {
            "tags": []
          },
          "execution_count": 8
        }
      ]
    },
    {
      "cell_type": "code",
      "metadata": {
        "id": "TQq-HuMcMBoM",
        "colab_type": "code",
        "outputId": "beb5b9b2-8ad6-4182-e5ab-ee7dcffbe79d",
        "colab": {
          "base_uri": "https://localhost:8080/",
          "height": 34
        }
      },
      "source": [
        "train['PetalLength'].mean(), train['PetalLength'].median()"
      ],
      "execution_count": 0,
      "outputs": [
        {
          "output_type": "execute_result",
          "data": {
            "text/plain": [
              "(3.739166666666667, 4.4)"
            ]
          },
          "metadata": {
            "tags": []
          },
          "execution_count": 9
        }
      ]
    },
    {
      "cell_type": "code",
      "metadata": {
        "id": "yqVIlQ7nM1Eh",
        "colab_type": "code",
        "outputId": "05c5c004-9eaf-4fee-82f9-7e6a19076db0",
        "colab": {
          "base_uri": "https://localhost:8080/",
          "height": 282
        }
      },
      "source": [
        "'''\n",
        "EDA\n",
        "for numerics you can have histograms.\n",
        "'''\n",
        "train['SepalWidth'].hist(bins=20)"
      ],
      "execution_count": 0,
      "outputs": [
        {
          "output_type": "execute_result",
          "data": {
            "text/plain": [
              "<matplotlib.axes._subplots.AxesSubplot at 0x7ff19955be80>"
            ]
          },
          "metadata": {
            "tags": []
          },
          "execution_count": 10
        },
        {
          "output_type": "display_data",
          "data": {
            "image/png": "[encoded data removed]",
            "text/plain": [
              "<Figure size 432x288 with 1 Axes>"
            ]
          },
          "metadata": {
            "tags": []
          }
        }
      ]
    },
    {
      "cell_type": "code",
      "metadata": {
        "id": "V4NVq2p8NFac",
        "colab_type": "code",
        "outputId": "78948671-f4ab-4169-fcce-7fe80c83bcf1",
        "colab": {
          "base_uri": "https://localhost:8080/",
          "height": 282
        }
      },
      "source": [
        "test['SepalWidth'].hist(bins=20)"
      ],
      "execution_count": 0,
      "outputs": [
        {
          "output_type": "execute_result",
          "data": {
            "text/plain": [
              "<matplotlib.axes._subplots.AxesSubplot at 0x7ff1994a42b0>"
            ]
          },
          "metadata": {
            "tags": []
          },
          "execution_count": 11
        },
        {
          "output_type": "display_data",
          "data": {
            "image/png": "[encoded data removed]",
            "text/plain": [
              "<Figure size 432x288 with 1 Axes>"
            ]
          },
          "metadata": {
            "tags": []
          }
        }
      ]
    },
    {
      "cell_type": "code",
      "metadata": {
        "id": "nATosV6lNLL8",
        "colab_type": "code",
        "colab": {}
      },
      "source": [
        "def input_fn(features, labels, training=True, batch_size=64):\n",
        "  # Create a tf dataset\n",
        "  dataset = tf.data.Dataset.from_tensor_slices((dict(features), labels))\n",
        "\n",
        "  if training:\n",
        "    dataset = dataset.shuffle(1000).repeat()\n",
        "\n",
        "  return dataset.batch(batch_size)"
      ],
      "execution_count": 0,
      "outputs": []
    },
    {
      "cell_type": "code",
      "metadata": {
        "id": "jHGn7gzmOIlz",
        "colab_type": "code",
        "outputId": "f651f160-c78b-467f-ae35-07cae40837c8",
        "colab": {
          "base_uri": "https://localhost:8080/",
          "height": 54
        }
      },
      "source": [
        "feature_columns = []\n",
        "for key in train.keys():\n",
        "  feature_columns.append(tf.feature_column.numeric_column(key=key))\n",
        "\n",
        "print(feature_columns)"
      ],
      "execution_count": 0,
      "outputs": [
        {
          "output_type": "stream",
          "text": [
            "[NumericColumn(key='SepalLength', shape=(1,), default_value=None, dtype=tf.float32, normalizer_fn=None), NumericColumn(key='SepalWidth', shape=(1,), default_value=None, dtype=tf.float32, normalizer_fn=None), NumericColumn(key='PetalLength', shape=(1,), default_value=None, dtype=tf.float32, normalizer_fn=None), NumericColumn(key='PetalWidth', shape=(1,), default_value=None, dtype=tf.float32, normalizer_fn=None)]\n"
          ],
          "name": "stdout"
        }
      ]
    },
    {
      "cell_type": "code",
      "metadata": {
        "id": "JApd8iDGO3fx",
        "colab_type": "code",
        "outputId": "0f5058f9-b955-46fb-ea39-c8e31f65c0a2",
        "colab": {
          "base_uri": "https://localhost:8080/",
          "height": 193
        }
      },
      "source": [
        "classifier = tf.estimator.DNNClassifier(feature_columns=feature_columns,\n",
        "                                        hidden_units=[100, 50, 25],\n",
        "                                        n_classes=3)"
      ],
      "execution_count": 0,
      "outputs": [
        {
          "output_type": "stream",
          "text": [
            "INFO:tensorflow:Using default config.\n",
            "WARNING:tensorflow:Using temporary folder as model directory: /tmp/tmppg2bl3re\n",
            "INFO:tensorflow:Using config: {'_model_dir': '/tmp/tmppg2bl3re', '_tf_random_seed': None, '_save_summary_steps': 100, '_save_checkpoints_steps': None, '_save_checkpoints_secs': 600, '_session_config': allow_soft_placement: true\n",
            "graph_options {\n",
            "  rewrite_options {\n",
            "    meta_optimizer_iterations: ONE\n",
            "  }\n",
            "}\n",
            ", '_keep_checkpoint_max': 5, '_keep_checkpoint_every_n_hours': 10000, '_log_step_count_steps': 100, '_train_distribute': None, '_device_fn': None, '_protocol': None, '_eval_distribute': None, '_experimental_distribute': None, '_experimental_max_worker_delay_secs': None, '_session_creation_timeout_secs': 7200, '_service': None, '_cluster_spec': ClusterSpec({}), '_task_type': 'worker', '_task_id': 0, '_global_id_in_cluster': 0, '_master': '', '_evaluation_master': '', '_is_chief': True, '_num_ps_replicas': 0, '_num_worker_replicas': 1}\n"
          ],
          "name": "stdout"
        }
      ]
    },
    {
      "cell_type": "code",
      "metadata": {
        "id": "9-dBG5LqPTjz",
        "colab_type": "code",
        "outputId": "4bbec853-4612-4ff1-ab8e-bb740db355c3",
        "colab": {
          "base_uri": "https://localhost:8080/",
          "height": 1000
        }
      },
      "source": [
        "classifier.train(\n",
        "    input_fn=lambda: input_fn(train, train_y, training=True),\n",
        "    steps=10000\n",
        ")"
      ],
      "execution_count": 0,
      "outputs": [
        {
          "output_type": "stream",
          "text": [
            "INFO:tensorflow:Calling model_fn.\n",
            "WARNING:tensorflow:Layer dnn is casting an input tensor from dtype float64 to the layer's dtype of float32, which is new behavior in TensorFlow 2.  The layer has dtype float32 because it's dtype defaults to floatx.\n",
            "\n",
            "If you intended to run this layer in float32, you can safely ignore this warning. If in doubt, this warning is likely only an issue if you are porting a TensorFlow 1.X model to TensorFlow 2.\n",
            "\n",
            "To change all layers to have dtype float64 by default, call `tf.keras.backend.set_floatx('float64')`. To change just this layer, pass dtype='float64' to the layer constructor. If you are the author of this layer, you can disable autocasting by passing autocast=False to the base Layer constructor.\n",
            "\n",
            "INFO:tensorflow:Done calling model_fn.\n",
            "INFO:tensorflow:Create CheckpointSaverHook.\n",
            "INFO:tensorflow:Graph was finalized.\n",
            "INFO:tensorflow:Running local_init_op.\n",
            "INFO:tensorflow:Done running local_init_op.\n",
            "INFO:tensorflow:Calling checkpoint listeners before saving checkpoint 0...\n",
            "INFO:tensorflow:Saving checkpoints for 0 into /tmp/tmppg2bl3re/model.ckpt.\n",
            "INFO:tensorflow:Calling checkpoint listeners after saving checkpoint 0...\n",
            "INFO:tensorflow:loss = 1.5444796, step = 0\n",
            "INFO:tensorflow:global_step/sec: 549.61\n",
            "INFO:tensorflow:loss = 0.9498544, step = 100 (0.183 sec)\n",
            "INFO:tensorflow:global_step/sec: 746.19\n",
            "INFO:tensorflow:loss = 0.8116152, step = 200 (0.135 sec)\n",
            "INFO:tensorflow:global_step/sec: 796.836\n",
            "INFO:tensorflow:loss = 0.7208904, step = 300 (0.128 sec)\n",
            "INFO:tensorflow:global_step/sec: 754.618\n",
            "INFO:tensorflow:loss = 0.6600677, step = 400 (0.133 sec)\n",
            "INFO:tensorflow:global_step/sec: 707.182\n",
            "INFO:tensorflow:loss = 0.5903132, step = 500 (0.138 sec)\n",
            "INFO:tensorflow:global_step/sec: 676.567\n",
            "INFO:tensorflow:loss = 0.5829115, step = 600 (0.148 sec)\n",
            "INFO:tensorflow:global_step/sec: 783.724\n",
            "INFO:tensorflow:loss = 0.5157335, step = 700 (0.130 sec)\n",
            "INFO:tensorflow:global_step/sec: 773.723\n",
            "INFO:tensorflow:loss = 0.5039384, step = 800 (0.127 sec)\n",
            "INFO:tensorflow:global_step/sec: 805.649\n",
            "INFO:tensorflow:loss = 0.44354013, step = 900 (0.127 sec)\n",
            "INFO:tensorflow:global_step/sec: 711.176\n",
            "INFO:tensorflow:loss = 0.4064116, step = 1000 (0.140 sec)\n",
            "INFO:tensorflow:global_step/sec: 783.192\n",
            "INFO:tensorflow:loss = 0.36879024, step = 1100 (0.127 sec)\n",
            "INFO:tensorflow:global_step/sec: 780.458\n",
            "INFO:tensorflow:loss = 0.33990878, step = 1200 (0.127 sec)\n",
            "INFO:tensorflow:global_step/sec: 786.928\n",
            "INFO:tensorflow:loss = 0.31105265, step = 1300 (0.127 sec)\n",
            "INFO:tensorflow:global_step/sec: 790.452\n",
            "INFO:tensorflow:loss = 0.3219564, step = 1400 (0.126 sec)\n",
            "INFO:tensorflow:global_step/sec: 773.003\n",
            "INFO:tensorflow:loss = 0.29520315, step = 1500 (0.130 sec)\n",
            "INFO:tensorflow:global_step/sec: 787.103\n",
            "INFO:tensorflow:loss = 0.28718463, step = 1600 (0.126 sec)\n",
            "INFO:tensorflow:global_step/sec: 744.648\n",
            "INFO:tensorflow:loss = 0.2847043, step = 1700 (0.138 sec)\n",
            "INFO:tensorflow:global_step/sec: 763.056\n",
            "INFO:tensorflow:loss = 0.24803066, step = 1800 (0.127 sec)\n",
            "INFO:tensorflow:global_step/sec: 796.739\n",
            "INFO:tensorflow:loss = 0.2420108, step = 1900 (0.129 sec)\n",
            "INFO:tensorflow:global_step/sec: 771.867\n",
            "INFO:tensorflow:loss = 0.2646959, step = 2000 (0.130 sec)\n",
            "INFO:tensorflow:global_step/sec: 803.353\n",
            "INFO:tensorflow:loss = 0.19187808, step = 2100 (0.125 sec)\n",
            "INFO:tensorflow:global_step/sec: 737.813\n",
            "INFO:tensorflow:loss = 0.23125663, step = 2200 (0.132 sec)\n",
            "INFO:tensorflow:global_step/sec: 833.213\n",
            "INFO:tensorflow:loss = 0.20471302, step = 2300 (0.121 sec)\n",
            "INFO:tensorflow:global_step/sec: 817.194\n",
            "INFO:tensorflow:loss = 0.21644321, step = 2400 (0.125 sec)\n",
            "INFO:tensorflow:global_step/sec: 791.702\n",
            "INFO:tensorflow:loss = 0.18819529, step = 2500 (0.123 sec)\n",
            "INFO:tensorflow:global_step/sec: 762.633\n",
            "INFO:tensorflow:loss = 0.19318537, step = 2600 (0.135 sec)\n",
            "INFO:tensorflow:global_step/sec: 732.255\n",
            "INFO:tensorflow:loss = 0.20396876, step = 2700 (0.136 sec)\n",
            "INFO:tensorflow:global_step/sec: 704.953\n",
            "INFO:tensorflow:loss = 0.19476278, step = 2800 (0.143 sec)\n",
            "INFO:tensorflow:global_step/sec: 711.571\n",
            "INFO:tensorflow:loss = 0.15709566, step = 2900 (0.140 sec)\n",
            "INFO:tensorflow:global_step/sec: 770.242\n",
            "INFO:tensorflow:loss = 0.18772617, step = 3000 (0.126 sec)\n",
            "INFO:tensorflow:global_step/sec: 764.479\n",
            "INFO:tensorflow:loss = 0.17619929, step = 3100 (0.135 sec)\n",
            "INFO:tensorflow:global_step/sec: 740.802\n",
            "INFO:tensorflow:loss = 0.16381937, step = 3200 (0.134 sec)\n",
            "INFO:tensorflow:global_step/sec: 728.932\n",
            "INFO:tensorflow:loss = 0.1920967, step = 3300 (0.135 sec)\n",
            "INFO:tensorflow:global_step/sec: 765.961\n",
            "INFO:tensorflow:loss = 0.16634354, step = 3400 (0.130 sec)\n",
            "INFO:tensorflow:global_step/sec: 775.961\n",
            "INFO:tensorflow:loss = 0.21810468, step = 3500 (0.129 sec)\n",
            "INFO:tensorflow:global_step/sec: 715.512\n",
            "INFO:tensorflow:loss = 0.13448898, step = 3600 (0.140 sec)\n",
            "INFO:tensorflow:global_step/sec: 779.547\n",
            "INFO:tensorflow:loss = 0.12768996, step = 3700 (0.128 sec)\n",
            "INFO:tensorflow:global_step/sec: 738.713\n",
            "INFO:tensorflow:loss = 0.19252655, step = 3800 (0.136 sec)\n",
            "INFO:tensorflow:global_step/sec: 752.27\n",
            "INFO:tensorflow:loss = 0.14700967, step = 3900 (0.132 sec)\n",
            "INFO:tensorflow:global_step/sec: 744.644\n",
            "INFO:tensorflow:loss = 0.13153519, step = 4000 (0.137 sec)\n",
            "INFO:tensorflow:global_step/sec: 719.62\n",
            "INFO:tensorflow:loss = 0.16075274, step = 4100 (0.136 sec)\n",
            "INFO:tensorflow:global_step/sec: 714.002\n",
            "INFO:tensorflow:loss = 0.15493143, step = 4200 (0.140 sec)\n",
            "INFO:tensorflow:global_step/sec: 746.073\n",
            "INFO:tensorflow:loss = 0.115988836, step = 4300 (0.134 sec)\n",
            "INFO:tensorflow:global_step/sec: 745.161\n",
            "INFO:tensorflow:loss = 0.15320958, step = 4400 (0.134 sec)\n",
            "INFO:tensorflow:global_step/sec: 756.291\n",
            "INFO:tensorflow:loss = 0.13068485, step = 4500 (0.133 sec)\n",
            "INFO:tensorflow:global_step/sec: 749.529\n",
            "INFO:tensorflow:loss = 0.12271429, step = 4600 (0.133 sec)\n",
            "INFO:tensorflow:global_step/sec: 707.871\n",
            "INFO:tensorflow:loss = 0.13647854, step = 4700 (0.145 sec)\n",
            "INFO:tensorflow:global_step/sec: 667.931\n",
            "INFO:tensorflow:loss = 0.13490611, step = 4800 (0.150 sec)\n",
            "INFO:tensorflow:global_step/sec: 716.36\n",
            "INFO:tensorflow:loss = 0.08960657, step = 4900 (0.139 sec)\n",
            "INFO:tensorflow:global_step/sec: 692.316\n",
            "INFO:tensorflow:loss = 0.087443575, step = 5000 (0.144 sec)\n",
            "INFO:tensorflow:global_step/sec: 737.777\n",
            "INFO:tensorflow:loss = 0.10242556, step = 5100 (0.133 sec)\n",
            "INFO:tensorflow:global_step/sec: 734.041\n",
            "INFO:tensorflow:loss = 0.113831356, step = 5200 (0.135 sec)\n",
            "INFO:tensorflow:global_step/sec: 701.859\n",
            "INFO:tensorflow:loss = 0.10697445, step = 5300 (0.142 sec)\n",
            "INFO:tensorflow:global_step/sec: 702.22\n",
            "INFO:tensorflow:loss = 0.12598646, step = 5400 (0.145 sec)\n",
            "INFO:tensorflow:global_step/sec: 693.04\n",
            "INFO:tensorflow:loss = 0.07983966, step = 5500 (0.144 sec)\n",
            "INFO:tensorflow:global_step/sec: 677.91\n",
            "INFO:tensorflow:loss = 0.10697016, step = 5600 (0.145 sec)\n",
            "INFO:tensorflow:global_step/sec: 716.921\n",
            "INFO:tensorflow:loss = 0.15189311, step = 5700 (0.139 sec)\n",
            "INFO:tensorflow:global_step/sec: 763.93\n",
            "INFO:tensorflow:loss = 0.0923232, step = 5800 (0.134 sec)\n",
            "INFO:tensorflow:global_step/sec: 741.929\n",
            "INFO:tensorflow:loss = 0.10206709, step = 5900 (0.135 sec)\n",
            "INFO:tensorflow:global_step/sec: 671.149\n",
            "INFO:tensorflow:loss = 0.12321542, step = 6000 (0.146 sec)\n",
            "INFO:tensorflow:global_step/sec: 701.182\n",
            "INFO:tensorflow:loss = 0.12583032, step = 6100 (0.146 sec)\n",
            "INFO:tensorflow:global_step/sec: 643.018\n",
            "INFO:tensorflow:loss = 0.13730103, step = 6200 (0.154 sec)\n",
            "INFO:tensorflow:global_step/sec: 734.474\n",
            "INFO:tensorflow:loss = 0.08253008, step = 6300 (0.137 sec)\n",
            "INFO:tensorflow:global_step/sec: 702.461\n",
            "INFO:tensorflow:loss = 0.13716456, step = 6400 (0.140 sec)\n",
            "INFO:tensorflow:global_step/sec: 724.369\n",
            "INFO:tensorflow:loss = 0.15076882, step = 6500 (0.139 sec)\n",
            "INFO:tensorflow:global_step/sec: 716.141\n",
            "INFO:tensorflow:loss = 0.106033064, step = 6600 (0.139 sec)\n",
            "INFO:tensorflow:global_step/sec: 672.887\n",
            "INFO:tensorflow:loss = 0.09950427, step = 6700 (0.152 sec)\n",
            "INFO:tensorflow:global_step/sec: 575.936\n",
            "INFO:tensorflow:loss = 0.1363611, step = 6800 (0.173 sec)\n",
            "INFO:tensorflow:global_step/sec: 653.875\n",
            "INFO:tensorflow:loss = 0.06370827, step = 6900 (0.153 sec)\n",
            "INFO:tensorflow:global_step/sec: 705.27\n",
            "INFO:tensorflow:loss = 0.10759715, step = 7000 (0.141 sec)\n",
            "INFO:tensorflow:global_step/sec: 669.848\n",
            "INFO:tensorflow:loss = 0.095313616, step = 7100 (0.150 sec)\n",
            "INFO:tensorflow:global_step/sec: 694.206\n",
            "INFO:tensorflow:loss = 0.10149404, step = 7200 (0.142 sec)\n",
            "INFO:tensorflow:global_step/sec: 730.841\n",
            "INFO:tensorflow:loss = 0.11269653, step = 7300 (0.137 sec)\n",
            "INFO:tensorflow:global_step/sec: 744.273\n",
            "INFO:tensorflow:loss = 0.10442084, step = 7400 (0.134 sec)\n",
            "INFO:tensorflow:global_step/sec: 701.212\n",
            "INFO:tensorflow:loss = 0.08465744, step = 7500 (0.143 sec)\n",
            "INFO:tensorflow:global_step/sec: 695.865\n",
            "INFO:tensorflow:loss = 0.1030962, step = 7600 (0.144 sec)\n",
            "INFO:tensorflow:global_step/sec: 720.166\n",
            "INFO:tensorflow:loss = 0.0820865, step = 7700 (0.138 sec)\n",
            "INFO:tensorflow:global_step/sec: 692.881\n",
            "INFO:tensorflow:loss = 0.08762579, step = 7800 (0.148 sec)\n",
            "INFO:tensorflow:global_step/sec: 722.923\n",
            "INFO:tensorflow:loss = 0.12290889, step = 7900 (0.134 sec)\n",
            "INFO:tensorflow:global_step/sec: 700.404\n",
            "INFO:tensorflow:loss = 0.07943946, step = 8000 (0.143 sec)\n",
            "INFO:tensorflow:global_step/sec: 699.255\n",
            "INFO:tensorflow:loss = 0.084422655, step = 8100 (0.143 sec)\n",
            "INFO:tensorflow:global_step/sec: 677.968\n",
            "INFO:tensorflow:loss = 0.0988489, step = 8200 (0.148 sec)\n",
            "INFO:tensorflow:global_step/sec: 684.341\n",
            "INFO:tensorflow:loss = 0.0875702, step = 8300 (0.149 sec)\n",
            "INFO:tensorflow:global_step/sec: 663.994\n",
            "INFO:tensorflow:loss = 0.101607665, step = 8400 (0.150 sec)\n",
            "INFO:tensorflow:global_step/sec: 737.133\n",
            "INFO:tensorflow:loss = 0.109638065, step = 8500 (0.134 sec)\n",
            "INFO:tensorflow:global_step/sec: 716.661\n",
            "INFO:tensorflow:loss = 0.1287359, step = 8600 (0.138 sec)\n",
            "INFO:tensorflow:global_step/sec: 730.758\n",
            "INFO:tensorflow:loss = 0.09393984, step = 8700 (0.137 sec)\n",
            "INFO:tensorflow:global_step/sec: 737.198\n",
            "INFO:tensorflow:loss = 0.11230487, step = 8800 (0.135 sec)\n",
            "WARNING:tensorflow:It seems that global step (tf.train.get_global_step) has not been increased. Current value (could be stable): 8859 vs previous value: 8859. You could increase the global step by passing tf.train.get_global_step() to Optimizer.apply_gradients or Optimizer.minimize.\n",
            "INFO:tensorflow:global_step/sec: 609.492\n",
            "INFO:tensorflow:loss = 0.11592649, step = 8900 (0.167 sec)\n",
            "INFO:tensorflow:global_step/sec: 707.292\n",
            "INFO:tensorflow:loss = 0.110888705, step = 9000 (0.142 sec)\n",
            "INFO:tensorflow:global_step/sec: 704.757\n",
            "INFO:tensorflow:loss = 0.059708614, step = 9100 (0.142 sec)\n",
            "INFO:tensorflow:global_step/sec: 704.923\n",
            "INFO:tensorflow:loss = 0.10253148, step = 9200 (0.139 sec)\n",
            "INFO:tensorflow:global_step/sec: 678.295\n",
            "INFO:tensorflow:loss = 0.059966527, step = 9300 (0.150 sec)\n",
            "INFO:tensorflow:global_step/sec: 716.19\n",
            "INFO:tensorflow:loss = 0.06959394, step = 9400 (0.137 sec)\n",
            "INFO:tensorflow:global_step/sec: 720.827\n",
            "INFO:tensorflow:loss = 0.088902704, step = 9500 (0.142 sec)\n",
            "INFO:tensorflow:global_step/sec: 667.624\n",
            "INFO:tensorflow:loss = 0.08751124, step = 9600 (0.146 sec)\n",
            "INFO:tensorflow:global_step/sec: 729.489\n",
            "INFO:tensorflow:loss = 0.088321544, step = 9700 (0.137 sec)\n",
            "INFO:tensorflow:global_step/sec: 693.62\n",
            "INFO:tensorflow:loss = 0.093264684, step = 9800 (0.144 sec)\n",
            "INFO:tensorflow:global_step/sec: 712.024\n",
            "INFO:tensorflow:loss = 0.07304938, step = 9900 (0.144 sec)\n",
            "INFO:tensorflow:Calling checkpoint listeners before saving checkpoint 10000...\n",
            "INFO:tensorflow:Saving checkpoints for 10000 into /tmp/tmppg2bl3re/model.ckpt.\n",
            "INFO:tensorflow:Calling checkpoint listeners after saving checkpoint 10000...\n",
            "INFO:tensorflow:Loss for final step: 0.06080159.\n"
          ],
          "name": "stdout"
        },
        {
          "output_type": "execute_result",
          "data": {
            "text/plain": [
              "<tensorflow_estimator.python.estimator.canned.dnn.DNNClassifierV2 at 0x7ff18ff5f908>"
            ]
          },
          "metadata": {
            "tags": []
          },
          "execution_count": 29
        }
      ]
    },
    {
      "cell_type": "code",
      "metadata": {
        "id": "ZKRbEJS0P67X",
        "colab_type": "code",
        "outputId": "450406d2-6f7c-40e6-96f2-b31944168267",
        "colab": {
          "base_uri": "https://localhost:8080/",
          "height": 350
        }
      },
      "source": [
        "eval_results = classifier.evaluate(input_fn=lambda: input_fn(test, test_y, training=False))\n",
        "print(eval_results)"
      ],
      "execution_count": 0,
      "outputs": [
        {
          "output_type": "stream",
          "text": [
            "INFO:tensorflow:Calling model_fn.\n",
            "WARNING:tensorflow:Layer dnn is casting an input tensor from dtype float64 to the layer's dtype of float32, which is new behavior in TensorFlow 2.  The layer has dtype float32 because it's dtype defaults to floatx.\n",
            "\n",
            "If you intended to run this layer in float32, you can safely ignore this warning. If in doubt, this warning is likely only an issue if you are porting a TensorFlow 1.X model to TensorFlow 2.\n",
            "\n",
            "To change all layers to have dtype float64 by default, call `tf.keras.backend.set_floatx('float64')`. To change just this layer, pass dtype='float64' to the layer constructor. If you are the author of this layer, you can disable autocasting by passing autocast=False to the base Layer constructor.\n",
            "\n",
            "INFO:tensorflow:Done calling model_fn.\n",
            "INFO:tensorflow:Starting evaluation at 2020-03-29T22:03:04Z\n",
            "INFO:tensorflow:Graph was finalized.\n",
            "INFO:tensorflow:Restoring parameters from /tmp/tmppg2bl3re/model.ckpt-10000\n",
            "INFO:tensorflow:Running local_init_op.\n",
            "INFO:tensorflow:Done running local_init_op.\n",
            "INFO:tensorflow:Inference Time : 0.24480s\n",
            "INFO:tensorflow:Finished evaluation at 2020-03-29-22:03:05\n",
            "INFO:tensorflow:Saving dict for global step 10000: accuracy = 0.96666664, average_loss = 0.07954176, global_step = 10000, loss = 0.07954176\n",
            "INFO:tensorflow:Saving 'checkpoint_path' summary for global step 10000: /tmp/tmppg2bl3re/model.ckpt-10000\n",
            "{'accuracy': 0.96666664, 'average_loss': 0.07954176, 'loss': 0.07954176, 'global_step': 10000}\n"
          ],
          "name": "stdout"
        }
      ]
    },
    {
      "cell_type": "code",
      "metadata": {
        "id": "cuGZsYt6Q9hu",
        "colab_type": "code",
        "colab": {}
      },
      "source": [
        ""
      ],
      "execution_count": 0,
      "outputs": []
    }
  ]
}