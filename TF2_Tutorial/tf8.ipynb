{
  "nbformat": 4,
  "nbformat_minor": 0,
  "metadata": {
    "colab": {
      "name": "tf8.ipynb",
      "provenance": [],
      "collapsed_sections": []
    },
    "kernelspec": {
      "name": "python3",
      "display_name": "Python 3"
    },
    "accelerator": "GPU"
  },
  "cells": [
    {
      "cell_type": "code",
      "metadata": {
        "id": "eBsLS2VDBziU",
        "colab_type": "code",
        "colab": {}
      },
      "source": [
        "# nlp with recurrent neural networks\n",
        "# autocheck word complete grammer check translation chatbot\n",
        "# sentiment analysis / character generation"
      ],
      "execution_count": 0,
      "outputs": []
    },
    {
      "cell_type": "code",
      "metadata": {
        "id": "xdle8J8yDZB7",
        "colab_type": "code",
        "outputId": "d0794190-eab5-4fa1-a2f1-5259c991a2b8",
        "colab": {
          "base_uri": "https://localhost:8080/",
          "height": 52
        }
      },
      "source": [
        "# bag of words implementation\n",
        "\n",
        "\n",
        "def bag_of_words(text):\n",
        "\n",
        "  # find the words\n",
        "  words = text.lower().split(' ')\n",
        "  bag = {}\n",
        "  vocab = {}\n",
        "  word_encoding = 1\n",
        "\n",
        "  for word in words:\n",
        "    if word in vocab:\n",
        "      encoding = vocab[word]\n",
        "    else:\n",
        "      vocab[word] = word_encoding\n",
        "      encoding = word_encoding\n",
        "      word_encoding += 1\n",
        "\n",
        "    if encoding in bag:\n",
        "      bag[encoding] += 1\n",
        "    else:\n",
        "      bag[encoding] = 1\n",
        "\n",
        "  return bag, vocab\n",
        "\n",
        "text = 'TF is Awesome TF'\n",
        "bag, vocab = bag_of_words(text)\n",
        "print(bag)\n",
        "print(vocab)\n"
      ],
      "execution_count": 0,
      "outputs": [
        {
          "output_type": "stream",
          "text": [
            "{1: 2, 2: 1, 3: 1}\n",
            "{'tf': 1, 'is': 2, 'awesome': 3}\n"
          ],
          "name": "stdout"
        }
      ]
    },
    {
      "cell_type": "code",
      "metadata": {
        "id": "xPnmUKxwKtOw",
        "colab_type": "code",
        "colab": {}
      },
      "source": [
        "# embedding turns words into vectors.\n",
        "# the vector has a defined length and shows similarity to other words.\n",
        "# embedding layer tries to learn relations between words\n",
        "# so that more similar words have closer vectors (with lower angles).\n",
        "# pretrained word embeddings are availble also."
      ],
      "execution_count": 0,
      "outputs": []
    },
    {
      "cell_type": "code",
      "metadata": {
        "id": "V14Z8Ew8O0al",
        "colab_type": "code",
        "colab": {}
      },
      "source": [
        "# imdb reviews\n",
        "# alreadly numberized by community"
      ],
      "execution_count": 0,
      "outputs": []
    },
    {
      "cell_type": "code",
      "metadata": {
        "id": "S4zyg8muUm5O",
        "colab_type": "code",
        "outputId": "f6a0a0e5-c04b-4989-a492-0c335bd11dd2",
        "colab": {
          "base_uri": "https://localhost:8080/",
          "height": 52
        }
      },
      "source": [
        "from keras.datasets import imdb\n",
        "from keras.preprocessing import sequence\n",
        "import tensorflow as tf\n",
        "import os\n",
        "import numpy as np\n",
        "\n",
        "VOCAB_SIZE = 88584\n",
        "\n",
        "MAXLEN = 250\n",
        "BATCH_SIZE = 64\n",
        "\n",
        "(train_data, train_labels), (test_data, test_labels) = imdb.load_data(num_words = VOCAB_SIZE)\n"
      ],
      "execution_count": 0,
      "outputs": [
        {
          "output_type": "stream",
          "text": [
            "Downloading data from https://s3.amazonaws.com/text-datasets/imdb.npz\n",
            "17465344/17464789 [==============================] - 2s 0us/step\n"
          ],
          "name": "stdout"
        }
      ]
    },
    {
      "cell_type": "code",
      "metadata": {
        "id": "jTfCBzrGVS5M",
        "colab_type": "code",
        "outputId": "fdca79e9-d0e6-4ae3-c320-8f23c4677e90",
        "colab": {
          "base_uri": "https://localhost:8080/",
          "height": 1000
        }
      },
      "source": [
        "train_data[0]"
      ],
      "execution_count": 0,
      "outputs": [
        {
          "output_type": "execute_result",
          "data": {
            "text/plain": [
              "[1,\n",
              " 14,\n",
              " 22,\n",
              " 16,\n",
              " 43,\n",
              " 530,\n",
              " 973,\n",
              " 1622,\n",
              " 1385,\n",
              " 65,\n",
              " 458,\n",
              " 4468,\n",
              " 66,\n",
              " 3941,\n",
              " 4,\n",
              " 173,\n",
              " 36,\n",
              " 256,\n",
              " 5,\n",
              " 25,\n",
              " 100,\n",
              " 43,\n",
              " 838,\n",
              " 112,\n",
              " 50,\n",
              " 670,\n",
              " 22665,\n",
              " 9,\n",
              " 35,\n",
              " 480,\n",
              " 284,\n",
              " 5,\n",
              " 150,\n",
              " 4,\n",
              " 172,\n",
              " 112,\n",
              " 167,\n",
              " 21631,\n",
              " 336,\n",
              " 385,\n",
              " 39,\n",
              " 4,\n",
              " 172,\n",
              " 4536,\n",
              " 1111,\n",
              " 17,\n",
              " 546,\n",
              " 38,\n",
              " 13,\n",
              " 447,\n",
              " 4,\n",
              " 192,\n",
              " 50,\n",
              " 16,\n",
              " 6,\n",
              " 147,\n",
              " 2025,\n",
              " 19,\n",
              " 14,\n",
              " 22,\n",
              " 4,\n",
              " 1920,\n",
              " 4613,\n",
              " 469,\n",
              " 4,\n",
              " 22,\n",
              " 71,\n",
              " 87,\n",
              " 12,\n",
              " 16,\n",
              " 43,\n",
              " 530,\n",
              " 38,\n",
              " 76,\n",
              " 15,\n",
              " 13,\n",
              " 1247,\n",
              " 4,\n",
              " 22,\n",
              " 17,\n",
              " 515,\n",
              " 17,\n",
              " 12,\n",
              " 16,\n",
              " 626,\n",
              " 18,\n",
              " 19193,\n",
              " 5,\n",
              " 62,\n",
              " 386,\n",
              " 12,\n",
              " 8,\n",
              " 316,\n",
              " 8,\n",
              " 106,\n",
              " 5,\n",
              " 4,\n",
              " 2223,\n",
              " 5244,\n",
              " 16,\n",
              " 480,\n",
              " 66,\n",
              " 3785,\n",
              " 33,\n",
              " 4,\n",
              " 130,\n",
              " 12,\n",
              " 16,\n",
              " 38,\n",
              " 619,\n",
              " 5,\n",
              " 25,\n",
              " 124,\n",
              " 51,\n",
              " 36,\n",
              " 135,\n",
              " 48,\n",
              " 25,\n",
              " 1415,\n",
              " 33,\n",
              " 6,\n",
              " 22,\n",
              " 12,\n",
              " 215,\n",
              " 28,\n",
              " 77,\n",
              " 52,\n",
              " 5,\n",
              " 14,\n",
              " 407,\n",
              " 16,\n",
              " 82,\n",
              " 10311,\n",
              " 8,\n",
              " 4,\n",
              " 107,\n",
              " 117,\n",
              " 5952,\n",
              " 15,\n",
              " 256,\n",
              " 4,\n",
              " 31050,\n",
              " 7,\n",
              " 3766,\n",
              " 5,\n",
              " 723,\n",
              " 36,\n",
              " 71,\n",
              " 43,\n",
              " 530,\n",
              " 476,\n",
              " 26,\n",
              " 400,\n",
              " 317,\n",
              " 46,\n",
              " 7,\n",
              " 4,\n",
              " 12118,\n",
              " 1029,\n",
              " 13,\n",
              " 104,\n",
              " 88,\n",
              " 4,\n",
              " 381,\n",
              " 15,\n",
              " 297,\n",
              " 98,\n",
              " 32,\n",
              " 2071,\n",
              " 56,\n",
              " 26,\n",
              " 141,\n",
              " 6,\n",
              " 194,\n",
              " 7486,\n",
              " 18,\n",
              " 4,\n",
              " 226,\n",
              " 22,\n",
              " 21,\n",
              " 134,\n",
              " 476,\n",
              " 26,\n",
              " 480,\n",
              " 5,\n",
              " 144,\n",
              " 30,\n",
              " 5535,\n",
              " 18,\n",
              " 51,\n",
              " 36,\n",
              " 28,\n",
              " 224,\n",
              " 92,\n",
              " 25,\n",
              " 104,\n",
              " 4,\n",
              " 226,\n",
              " 65,\n",
              " 16,\n",
              " 38,\n",
              " 1334,\n",
              " 88,\n",
              " 12,\n",
              " 16,\n",
              " 283,\n",
              " 5,\n",
              " 16,\n",
              " 4472,\n",
              " 113,\n",
              " 103,\n",
              " 32,\n",
              " 15,\n",
              " 16,\n",
              " 5345,\n",
              " 19,\n",
              " 178,\n",
              " 32]"
            ]
          },
          "metadata": {
            "tags": []
          },
          "execution_count": 15
        }
      ]
    },
    {
      "cell_type": "code",
      "metadata": {
        "id": "sWqXnjfnVVv6",
        "colab_type": "code",
        "outputId": "3e7211b3-09de-42bf-ba46-34e173e725bc",
        "colab": {
          "base_uri": "https://localhost:8080/",
          "height": 34
        }
      },
      "source": [
        "len(train_data[0]), len(train_data[1])"
      ],
      "execution_count": 0,
      "outputs": [
        {
          "output_type": "execute_result",
          "data": {
            "text/plain": [
              "(218, 189)"
            ]
          },
          "metadata": {
            "tags": []
          },
          "execution_count": 17
        }
      ]
    },
    {
      "cell_type": "code",
      "metadata": {
        "id": "MAutDlglVgrZ",
        "colab_type": "code",
        "colab": {}
      },
      "source": [
        "# padding all sequences to the length of 250. adds zeros to front\n",
        "train_data = sequence.pad_sequences(train_data, MAXLEN)\n",
        "test_data = sequence.pad_sequences(test_data, MAXLEN)"
      ],
      "execution_count": 0,
      "outputs": []
    },
    {
      "cell_type": "code",
      "metadata": {
        "id": "xhZvK3z8V4zu",
        "colab_type": "code",
        "outputId": "6562c42a-bc76-4fc3-9318-0e2cef99f4a0",
        "colab": {
          "base_uri": "https://localhost:8080/",
          "height": 34
        }
      },
      "source": [
        "len(train_data[0]), len(train_data[1])"
      ],
      "execution_count": 0,
      "outputs": [
        {
          "output_type": "execute_result",
          "data": {
            "text/plain": [
              "(250, 250)"
            ]
          },
          "metadata": {
            "tags": []
          },
          "execution_count": 19
        }
      ]
    },
    {
      "cell_type": "code",
      "metadata": {
        "id": "7NmyTk_WV6g1",
        "colab_type": "code",
        "colab": {}
      },
      "source": [
        "# model\n",
        "inputs = tf.keras.Input(shape=(250,))\n",
        "embed = tf.keras.layers.Embedding(VOCAB_SIZE, 32)(inputs)\n",
        "lstm1 = tf.keras.layers.LSTM(32)(embed)\n",
        "outputs = tf.keras.layers.Dense(1, activation='sigmoid')(lstm1)\n",
        "model = tf.keras.models.Model(inputs=inputs, outputs=outputs)"
      ],
      "execution_count": 0,
      "outputs": []
    },
    {
      "cell_type": "code",
      "metadata": {
        "id": "8yWqm5C0XLil",
        "colab_type": "code",
        "outputId": "6d6ae5a9-db30-4dcd-9baa-17d3e42f4867",
        "colab": {
          "base_uri": "https://localhost:8080/",
          "height": 295
        }
      },
      "source": [
        "model.summary()"
      ],
      "execution_count": 0,
      "outputs": [
        {
          "output_type": "stream",
          "text": [
            "Model: \"model_1\"\n",
            "_________________________________________________________________\n",
            "Layer (type)                 Output Shape              Param #   \n",
            "=================================================================\n",
            "input_4 (InputLayer)         [(None, 250)]             0         \n",
            "_________________________________________________________________\n",
            "embedding_3 (Embedding)      (None, 250, 32)           2834688   \n",
            "_________________________________________________________________\n",
            "lstm_3 (LSTM)                (None, 32)                8320      \n",
            "_________________________________________________________________\n",
            "dense_2 (Dense)              (None, 1)                 33        \n",
            "=================================================================\n",
            "Total params: 2,843,041\n",
            "Trainable params: 2,843,041\n",
            "Non-trainable params: 0\n",
            "_________________________________________________________________\n"
          ],
          "name": "stdout"
        }
      ]
    },
    {
      "cell_type": "code",
      "metadata": {
        "id": "Ce7cBiQBXZPi",
        "colab_type": "code",
        "outputId": "be505910-cdca-4d37-8917-d1758df0de0f",
        "colab": {
          "base_uri": "https://localhost:8080/",
          "height": 382
        }
      },
      "source": [
        "model.compile(loss='binary_crossentropy', optimizer='adam', metrics=['accuracy'])\n",
        "history = model.fit(train_data, train_labels, epochs=10, validation_split=0.2)"
      ],
      "execution_count": 0,
      "outputs": [
        {
          "output_type": "stream",
          "text": [
            "Epoch 1/10\n",
            "625/625 [==============================] - 21s 34ms/step - loss: 0.4387 - accuracy: 0.7957 - val_loss: 0.3269 - val_accuracy: 0.8650\n",
            "Epoch 2/10\n",
            "625/625 [==============================] - 21s 33ms/step - loss: 0.1891 - accuracy: 0.9321 - val_loss: 0.3148 - val_accuracy: 0.8648\n",
            "Epoch 3/10\n",
            "625/625 [==============================] - 20s 32ms/step - loss: 0.1004 - accuracy: 0.9676 - val_loss: 0.3394 - val_accuracy: 0.8738\n",
            "Epoch 4/10\n",
            "625/625 [==============================] - 21s 33ms/step - loss: 0.0623 - accuracy: 0.9806 - val_loss: 0.4579 - val_accuracy: 0.8764\n",
            "Epoch 5/10\n",
            "625/625 [==============================] - 20s 32ms/step - loss: 0.0392 - accuracy: 0.9876 - val_loss: 0.5309 - val_accuracy: 0.8708\n",
            "Epoch 6/10\n",
            "625/625 [==============================] - 21s 33ms/step - loss: 0.0315 - accuracy: 0.9909 - val_loss: 0.5322 - val_accuracy: 0.8586\n",
            "Epoch 7/10\n",
            "625/625 [==============================] - 20s 33ms/step - loss: 0.0272 - accuracy: 0.9925 - val_loss: 0.5190 - val_accuracy: 0.8646\n",
            "Epoch 8/10\n",
            "625/625 [==============================] - 20s 33ms/step - loss: 0.0225 - accuracy: 0.9924 - val_loss: 0.7046 - val_accuracy: 0.8548\n",
            "Epoch 9/10\n",
            "625/625 [==============================] - 20s 32ms/step - loss: 0.0165 - accuracy: 0.9956 - val_loss: 0.6693 - val_accuracy: 0.8392\n",
            "Epoch 10/10\n",
            "625/625 [==============================] - 20s 33ms/step - loss: 0.0197 - accuracy: 0.9942 - val_loss: 0.6422 - val_accuracy: 0.8522\n"
          ],
          "name": "stdout"
        },
        {
          "output_type": "execute_result",
          "data": {
            "text/plain": [
              "<tensorflow.python.keras.callbacks.History at 0x7fb2d4ad8dd8>"
            ]
          },
          "metadata": {
            "tags": []
          },
          "execution_count": 31
        }
      ]
    },
    {
      "cell_type": "code",
      "metadata": {
        "id": "SXwsBH2UYtvk",
        "colab_type": "code",
        "outputId": "48d64f26-e7b5-4e50-965b-4040e68c6eee",
        "colab": {
          "base_uri": "https://localhost:8080/",
          "height": 52
        }
      },
      "source": [
        "results = model.evaluate(test_data, test_labels)\n",
        "results"
      ],
      "execution_count": 0,
      "outputs": [
        {
          "output_type": "stream",
          "text": [
            "782/782 [==============================] - 4s 5ms/step - loss: 0.7219 - accuracy: 0.8380\n"
          ],
          "name": "stdout"
        },
        {
          "output_type": "execute_result",
          "data": {
            "text/plain": [
              "[0.7219229936599731, 0.8379600048065186]"
            ]
          },
          "metadata": {
            "tags": []
          },
          "execution_count": 32
        }
      ]
    },
    {
      "cell_type": "code",
      "metadata": {
        "id": "2WsgEcAyZPmD",
        "colab_type": "code",
        "outputId": "2fe3a871-b9c8-4b5a-f9f7-efe829b236b2",
        "colab": {
          "base_uri": "https://localhost:8080/",
          "height": 278
        }
      },
      "source": [
        "# making predictions\n",
        "\n",
        "word_index = imdb.get_word_index()\n",
        "\n",
        "def encode_text(text):\n",
        "  tokens = tf.keras.preprocessing.text.text_to_word_sequence(text)\n",
        "  print(tokens)\n",
        "  tokens = [word_index[word] if word in word_index else 0 for word in tokens]\n",
        "  # works on list of lists, so the first one is only required.\n",
        "  return sequence.pad_sequences([tokens], MAXLEN)[0]\n",
        "\n",
        "\n",
        "text = 'that movie was just amazing, so amazing'\n",
        "encoded = encode_text(text)\n",
        "print(encoded)"
      ],
      "execution_count": 0,
      "outputs": [
        {
          "output_type": "stream",
          "text": [
            "['that', 'movie', 'was', 'just', 'amazing', 'so', 'amazing']\n",
            "[  0   0   0   0   0   0   0   0   0   0   0   0   0   0   0   0   0   0\n",
            "   0   0   0   0   0   0   0   0   0   0   0   0   0   0   0   0   0   0\n",
            "   0   0   0   0   0   0   0   0   0   0   0   0   0   0   0   0   0   0\n",
            "   0   0   0   0   0   0   0   0   0   0   0   0   0   0   0   0   0   0\n",
            "   0   0   0   0   0   0   0   0   0   0   0   0   0   0   0   0   0   0\n",
            "   0   0   0   0   0   0   0   0   0   0   0   0   0   0   0   0   0   0\n",
            "   0   0   0   0   0   0   0   0   0   0   0   0   0   0   0   0   0   0\n",
            "   0   0   0   0   0   0   0   0   0   0   0   0   0   0   0   0   0   0\n",
            "   0   0   0   0   0   0   0   0   0   0   0   0   0   0   0   0   0   0\n",
            "   0   0   0   0   0   0   0   0   0   0   0   0   0   0   0   0   0   0\n",
            "   0   0   0   0   0   0   0   0   0   0   0   0   0   0   0   0   0   0\n",
            "   0   0   0   0   0   0   0   0   0   0   0   0   0   0   0   0   0   0\n",
            "   0   0   0   0   0   0   0   0   0   0   0   0   0   0   0   0   0   0\n",
            "   0   0   0   0   0   0   0   0   0  12  17  13  40 477  35 477]\n"
          ],
          "name": "stdout"
        }
      ]
    },
    {
      "cell_type": "code",
      "metadata": {
        "id": "_JkbE_7hZXhC",
        "colab_type": "code",
        "outputId": "f8941203-1dbe-4526-dbf3-dd4d8634d8eb",
        "colab": {
          "base_uri": "https://localhost:8080/",
          "height": 106
        }
      },
      "source": [
        "import numpy as np\n",
        "def predict(text):\n",
        "  encoded_text = encode_text(text)\n",
        "  pred = np.zeros((1, 250))\n",
        "  pred[0] = encoded_text\n",
        "  # list of lists\n",
        "  result = model.predict(pred)\n",
        "  print(result[0])\n",
        "\n",
        "\n",
        "positive_review = 'That movie was so awesome! I really loved it and would watch it again because it was amazingly great'\n",
        "predict(positive_review)\n",
        "negative_review = '''That movie sucked. I hated it and wouldn't watch it again. Was one of the worst things I've ever watched'''\n",
        "predict(negative_review) "
      ],
      "execution_count": 0,
      "outputs": [
        {
          "output_type": "stream",
          "text": [
            "['that', 'movie', 'was', 'so', 'awesome', 'i', 'really', 'loved', 'it', 'and', 'would', 'watch', 'it', 'again', 'because', 'it', 'was', 'amazingly', 'great']\n",
            "[0.986652]\n",
            "['that', 'movie', 'sucked', 'i', 'hated', 'it', 'and', \"wouldn't\", 'watch', 'it', 'again', 'was', 'one', 'of', 'the', 'worst', 'things', \"i've\", 'ever', 'watched']\n",
            "[0.0868957]\n"
          ],
          "name": "stdout"
        }
      ]
    }
  ]
}